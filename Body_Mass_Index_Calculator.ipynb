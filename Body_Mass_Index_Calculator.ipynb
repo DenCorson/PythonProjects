{
  "nbformat": 4,
  "nbformat_minor": 0,
  "metadata": {
    "colab": {
      "provenance": [],
      "authorship_tag": "ABX9TyNMKPRE8nKc6FMKy0s5Oq0r",
      "include_colab_link": true
    },
    "kernelspec": {
      "name": "python3",
      "display_name": "Python 3"
    },
    "language_info": {
      "name": "python"
    }
  },
  "cells": [
    {
      "cell_type": "markdown",
      "metadata": {
        "id": "view-in-github",
        "colab_type": "text"
      },
      "source": [
        "<a href=\"https://colab.research.google.com/github/DenCorson/PythonProjects/blob/main/Body_Mass_Index_Calculator.ipynb\" target=\"_parent\"><img src=\"https://colab.research.google.com/assets/colab-badge.svg\" alt=\"Open In Colab\"/></a>"
      ]
    },
    {
      "cell_type": "code",
      "execution_count": 1,
      "metadata": {
        "id": "lOQ7VEbdJ2v7"
      },
      "outputs": [],
      "source": [
        "## Work out user's Body Mass Index based on the users input\n",
        "\n",
        "##1 Store users weight into a variable\n",
        "\n",
        "##2 Store users height into a variable\n",
        "\n",
        "##3 Peform BMI Equation with height and weight variables to get BMI result     BMI = Weight (lbs) / Height ^2 (inchs) x 703\n",
        "\n",
        "##4 Display results back to user."
      ]
    },
    {
      "cell_type": "code",
      "source": [
        "import math\n",
        "weight = input(\"What is your weight in lbs?\")\n",
        "height = input(\"What is your height?\")\n",
        "\n",
        "height_squared = float(height) * float(height)\n",
        "\n",
        "bmi = (float(weight) *703) / float(height_squared)\n",
        "\n",
        "print(\"Your BMI is:\", round(bmi))"
      ],
      "metadata": {
        "colab": {
          "base_uri": "https://localhost:8080/"
        },
        "id": "tB-_MFycLbCZ",
        "outputId": "6734cded-ce94-464f-84da-1b571a9ac4e5"
      },
      "execution_count": 15,
      "outputs": [
        {
          "output_type": "stream",
          "name": "stdout",
          "text": [
            "What is your weight in lbs?180\n",
            "What is your height?72\n",
            "Your BMI is: 24\n"
          ]
        }
      ]
    }
  ]
}