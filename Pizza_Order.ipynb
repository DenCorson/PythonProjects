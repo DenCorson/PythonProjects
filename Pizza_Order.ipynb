{
  "nbformat": 4,
  "nbformat_minor": 0,
  "metadata": {
    "colab": {
      "provenance": [],
      "authorship_tag": "ABX9TyNzTO+/0IM3nZcZXrS3btB9",
      "include_colab_link": true
    },
    "kernelspec": {
      "name": "python3",
      "display_name": "Python 3"
    },
    "language_info": {
      "name": "python"
    }
  },
  "cells": [
    {
      "cell_type": "markdown",
      "metadata": {
        "id": "view-in-github",
        "colab_type": "text"
      },
      "source": [
        "<a href=\"https://colab.research.google.com/github/DenCorson/PythonProjects/blob/main/Pizza_Order.ipynb\" target=\"_parent\"><img src=\"https://colab.research.google.com/assets/colab-badge.svg\" alt=\"Open In Colab\"/></a>"
      ]
    },
    {
      "cell_type": "code",
      "execution_count": null,
      "metadata": {
        "id": "b-nY97XEnRvr"
      },
      "outputs": [],
      "source": [
        "## Create a Automatic Pizza order program that determines the final cost of a pizza based on users input\n",
        "## Small pizza: $15,  Medium pizza: 20, Large pizza: 25\n",
        "## Pepporni for small pizza + 2\n",
        "## Pepporni for medium/large pizza +3\n",
        "## Extra cheese for any size is + 2"
      ]
    },
    {
      "cell_type": "code",
      "source": [
        "##################################################### ALGORITHM\n",
        "\n",
        "## 1. Perform greeting for user.\n",
        "## 2. List the prices of each pizza as well as their toppings\n",
        "## 3. Request size of pizza from user\n",
        "## 4. Use conditions to verify if sizes are correct (S, M, L) if so, store into a variable, if not reprompt user to enter correct size for pizza\n",
        "## 5. Request if they want pepporni, and store answers (Y,N) into a variable, if anything other than Y,N enter reprompt\n",
        "## 6. Check pepporni answer if Y or N\n",
        "## 7. If Y make sure to verify the size of pizza, depending on size add charge to the pizza variable (create a holder at top)\n",
        "## 8. If N do not add a charge to the pizza variable\n",
        "## 6. Request if user wants extra cheese added. store answer (Y, N) into variable, anything other than answers reprompt\n",
        "## 7. create conditionals to check if user wants extra cheese if Y add 2 to the charge if N do not add charge.\n",
        "## 9. Display the Pizza size, pepporoni, cheese status back to user and total charge for user."
      ],
      "metadata": {
        "id": "W5FfHiKyoY7a"
      },
      "execution_count": null,
      "outputs": []
    },
    {
      "cell_type": "code",
      "source": [],
      "metadata": {
        "id": "W7oe6kxSqh-U"
      },
      "execution_count": null,
      "outputs": []
    },
    {
      "cell_type": "code",
      "source": [
        "created_pizza = 0\n",
        "small_pizza_charge = 15\n",
        "medium_pizza_charge = 20\n",
        "large_pizza_charge = 25\n",
        "small_pepporni_charge = 2\n",
        "med_large_pepporni_chage = 3\n",
        "extra_cheese = 2\n",
        "\n",
        "print(\"Hello! Welcome to Denzel's Pizza Shack\")\n",
        "print(\"Here is what we currently have!\")\n",
        "print(\"Small pizza: $15\\nMedium pizza: $20\\nLarge pizza: $25\")\n",
        "print(\"Pepporni for small pizza + $2 \\nPepporni for medium or large pizza + $3\")\n",
        "print(\"Additional cheese for any size pizza is + $2\")\n",
        "while True:\n",
        "  user_pizza_size = input(\"So, what size pizza would you like? S, M, L\")\n",
        "  if user_pizza_size == \"S\":\n",
        "    created_pizza = created_pizza + small_pizza_charge\n",
        "    while True:\n",
        "      add_pepporni = input(\"Would you like to add Pepporni? Y or N?\")\n",
        "      print(\"created pizza is at\", created_pizza)\n",
        "      if add_pepporni == \"Y\":\n",
        "        created_pizza = created_pizza + small_pepporni_charge\n",
        "        while True:\n",
        "          add_extra_cheese = input(\"Would you like to add extra Cheese? Y or N?\")\n",
        "          if add_extra_cheese == \"Y\":\n",
        "            created_pizza = created_pizza + extra_cheese\n",
        "            break\n",
        "          elif add_extra_cheese == \"N\":\n",
        "            break\n",
        "          else:\n",
        "            print(\"Wrong answer, please answer the question.\")\n",
        "        break\n",
        "      elif add_pepporni == \"N\":\n",
        "         while True:\n",
        "          add_extra_cheese = input(\"Would you like to add extra Cheese? Y or N?\")\n",
        "          if add_extra_cheese == \"Y\":\n",
        "            created_pizza = created_pizza + extra_cheese\n",
        "            break\n",
        "          elif add_extra_cheese == \"N\":\n",
        "            break\n",
        "          else:\n",
        "            print(\"Wrong answer, please answer the question.\")\n",
        "      break\n",
        "    break\n",
        "  elif user_pizza_size == \"M\":\n",
        "    created_pizza = created_pizza + medium_pizza_charge\n",
        "    while True:\n",
        "      add_pepporni = input(\"Would you like to add Pepporni? Y or N?\")\n",
        "      if add_pepporni == \"Y\":\n",
        "        created_pizza = created_pizza + med_large_pepporni_chage\n",
        "        while True:\n",
        "          add_extra_cheese = input(\"Would you like to add extra Cheese? Y or N?\")\n",
        "          if add_extra_cheese == \"Y\":\n",
        "            created_pizza = created_pizza + extra_cheese\n",
        "            break\n",
        "          elif add_extra_cheese == \"N\":\n",
        "            break\n",
        "          else:\n",
        "            print(\"Wrong answer, please answer the question.\")\n",
        "        break\n",
        "      elif add_pepporni == \"N\":\n",
        "        while True:\n",
        "          add_extra_cheese = input(\"Would you like to add extra Cheese? Y or N?\")\n",
        "          if add_extra_cheese == \"Y\":\n",
        "             created_pizza = created_pizza + extra_cheese\n",
        "             break\n",
        "          elif add_extra_cheese == \"N\":\n",
        "             break\n",
        "          else:\n",
        "             print(\"Wrong answer, please answer the question.\")\n",
        "      break\n",
        "    break\n",
        "  elif user_pizza_size == \"L\":\n",
        "    created_pizza = created_pizza + large_pizza_charge\n",
        "    while True:\n",
        "      add_pepporni = input(\"Would you like to add Pepporni? Y or N?\")\n",
        "      if add_pepporni == \"Y\":\n",
        "        created_pizza = created_pizza + med_large_pepporni_chage\n",
        "        while True:\n",
        "          add_extra_cheese = input(\"Would you like to add extra Cheese? Y or N?\")\n",
        "          if add_extra_cheese == \"Y\":\n",
        "            created_pizza = created_pizza + extra_cheese\n",
        "            break\n",
        "          elif add_extra_cheese == \"N\":\n",
        "            break\n",
        "          else:\n",
        "            print(\"Wrong answer, please answer the question.\")\n",
        "        break\n",
        "      elif add_pepporni == \"N\":\n",
        "         while True:\n",
        "          add_extra_cheese = input(\"Would you like to add extra Cheese? Y or N?\")\n",
        "          if add_extra_cheese == \"Y\":\n",
        "             created_pizza = created_pizza + extra_cheese\n",
        "             break\n",
        "          elif add_extra_cheese == \"N\":\n",
        "             break\n",
        "          else:\n",
        "             print(\"Wrong answer, please answer the question.\")\n",
        "      break\n",
        "    break\n",
        "  else:\n",
        "    print(\"Incorrect size was selected for pizza please try again.\")\n",
        "\n",
        "print(f\"The total for that pizza will be {created_pizza: .2f}\")"
      ],
      "metadata": {
        "colab": {
          "base_uri": "https://localhost:8080/"
        },
        "id": "oYereLiPqiM0",
        "outputId": "bca8349b-fb68-4d06-aa23-aefd039191e8"
      },
      "execution_count": 21,
      "outputs": [
        {
          "output_type": "stream",
          "name": "stdout",
          "text": [
            "Hello! Welcome to Denzel's Pizza Shack\n",
            "Here is what we currently have!\n",
            "Small pizza: $15\n",
            "Medium pizza: $20\n",
            "Large pizza: $25\n",
            "Pepporni for small pizza + $2 \n",
            "Pepporni for medium or large pizza + $3\n",
            "Additional cheese for any size pizza is + $2\n",
            "So, what size pizza would you like? S, M, LM\n",
            "Would you like to add Pepporni? Y or N?Y\n",
            "Would you like to add extra Cheese? Y or N?N\n",
            "The total for that pizza will be  23.00\n"
          ]
        }
      ]
    },
    {
      "cell_type": "code",
      "source": [],
      "metadata": {
        "id": "2PkVC6bcqmpd"
      },
      "execution_count": null,
      "outputs": []
    }
  ]
}