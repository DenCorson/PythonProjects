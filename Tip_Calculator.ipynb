{
  "nbformat": 4,
  "nbformat_minor": 0,
  "metadata": {
    "colab": {
      "provenance": [],
      "authorship_tag": "ABX9TyNKzpSo+ri4zn3VEUVRiFOm",
      "include_colab_link": true
    },
    "kernelspec": {
      "name": "python3",
      "display_name": "Python 3"
    },
    "language_info": {
      "name": "python"
    }
  },
  "cells": [
    {
      "cell_type": "markdown",
      "metadata": {
        "id": "view-in-github",
        "colab_type": "text"
      },
      "source": [
        "<a href=\"https://colab.research.google.com/github/DenCorson/PythonProjects/blob/main/Tip_Calculator.ipynb\" target=\"_parent\"><img src=\"https://colab.research.google.com/assets/colab-badge.svg\" alt=\"Open In Colab\"/></a>"
      ]
    },
    {
      "cell_type": "code",
      "execution_count": null,
      "metadata": {
        "id": "SqTMfsHnx3TC"
      },
      "outputs": [],
      "source": [
        "## Greet user with app being used\n",
        "## request  total bill from user\n",
        "## ask what percentage tip would like to give? 10%, 12%, or 15%?\n",
        "## ask how many people to split bill?\n",
        "## displays how much each person needs to pay with rounded to 2 decimal places"
      ]
    },
    {
      "cell_type": "code",
      "source": [
        "###################################   ALGORITHM\n",
        "\n",
        "\n",
        "## 1. First Greet user with \"Welcome to Tip Calculator!\"\n",
        "## 2. store users input of bill into a variable, type cast it into a float type.\n",
        "## 3. Request tip percentage from user Betweem 10%, 12%, or 15%\n",
        "## 4. Create while loop conditional statement that check for percentages 10, 12,and 15 entered, if so store into a variable called \"percentage\".\n",
        "## 5. Create a condition in case the a wrong number is selected for tip percentage, reprompt user\n",
        "## 6. Request how many people will split the total bill\n",
        "## 7. Perform calculations with total bill, percentage and number of people\n",
        "## 8. Display the total amount everyone will need to put in, rounded down 2 decimals."
      ],
      "metadata": {
        "id": "u5qha5YYzMCX"
      },
      "execution_count": null,
      "outputs": []
    },
    {
      "cell_type": "code",
      "source": [
        "flag = False\n",
        "print(\"Hello welcome to Tip Calculator!\")\n",
        "total_bill = input(\"Please enter the total bill: $\")\n",
        "conv_total_bill = float(total_bill)\n",
        "\n",
        "while flag != True:\n",
        "    tip_percent = input(\"Please enter the tip percentage between 10%, 12%, or 15%\")\n",
        "    if tip_percent == \"10\":\n",
        "      tip_amount = (float(tip_percent) / 100) * conv_total_bill\n",
        "      total_bill_with_tip = conv_total_bill + tip_amount\n",
        "      flag = True\n",
        "    elif tip_percent == \"12\":\n",
        "      tip_amount = (float(tip_percent) / 100) * conv_total_bill\n",
        "      total_bill_with_tip = conv_total_bill + tip_amount\n",
        "      flag = True\n",
        "    elif tip_percent == \"15\":\n",
        "      tip_amount = (float(tip_percent) / 100) * conv_total_bill\n",
        "      total_bill_with_tip = conv_total_bill + tip_amount\n",
        "      flag = True\n",
        "    else:\n",
        "      print(\"Incorrect tip value was entered. Please try again.\")\n",
        "\n",
        "total_people = input(\"How many people are with you?\")\n",
        "\n",
        "split_bill_with_tip = total_bill_with_tip / int(total_people)\n",
        "\n",
        "print(f\"The bill for each person is: {split_bill_with_tip:.2f}\")\n"
      ],
      "metadata": {
        "colab": {
          "base_uri": "https://localhost:8080/"
        },
        "id": "sBZ7NWDm0nZU",
        "outputId": "25fdbf4f-2019-47bc-ece1-65c069b9a12f"
      },
      "execution_count": 5,
      "outputs": [
        {
          "output_type": "stream",
          "name": "stdout",
          "text": [
            "Hello welcome to Tip Calculator!\n",
            "Please enter the total bill: $54.32\n",
            "Please enter the tip percentage between 10%, 12%, or 15%88\n",
            "Incorrect tip value was entered. Please try again.\n",
            "Please enter the tip percentage between 10%, 12%, or 15%12\n",
            "How many people are with you?3\n",
            "The bill for each person is: 20.28\n"
          ]
        }
      ]
    }
  ]
}