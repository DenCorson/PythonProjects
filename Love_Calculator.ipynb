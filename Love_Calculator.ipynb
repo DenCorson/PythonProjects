{
  "nbformat": 4,
  "nbformat_minor": 0,
  "metadata": {
    "colab": {
      "provenance": [],
      "authorship_tag": "ABX9TyN20HsS+iwvdfw2fmaj5Oxl",
      "include_colab_link": true
    },
    "kernelspec": {
      "name": "python3",
      "display_name": "Python 3"
    },
    "language_info": {
      "name": "python"
    }
  },
  "cells": [
    {
      "cell_type": "markdown",
      "metadata": {
        "id": "view-in-github",
        "colab_type": "text"
      },
      "source": [
        "<a href=\"https://colab.research.google.com/github/DenCorson/PythonProjects/blob/main/Love_Calculator.ipynb\" target=\"_parent\"><img src=\"https://colab.research.google.com/assets/colab-badge.svg\" alt=\"Open In Colab\"/></a>"
      ]
    },
    {
      "cell_type": "code",
      "execution_count": null,
      "metadata": {
        "id": "ZViePaOqPIjl"
      },
      "outputs": [],
      "source": [
        "## Create a Love Calculator that determines the compatibility between two people using the Scientific method from BuzzFeed\n",
        "## Take both peoples names and check the number of times each of the letter in words LOVE and TRUE occur and combine the numbers to make a 2 digit number\n",
        "##"
      ]
    },
    {
      "cell_type": "code",
      "source": [
        "############################# ALGORITHM\n",
        "\n",
        "## 1. Create an Array that contains the characters T,R,U,E\n",
        "## 2. Create an array that contains the characters L,O,V,E\n",
        "## 3. Create a function that accepts a string into parameter (This accepted string will be the names of the couples)\n",
        "    ##3a. Inside function compare the names from the parameters with both the Arrays of TRUE and LOVE\n",
        "    ##3b. Break name from parameter into individual characters, store into its own array\n",
        "    ##3c. create a loop that iterates through the namearray character that loops through each letter in the TRUE and Love character, count the number of matches\n",
        "    ##3d. return the summed up number into a variable for a user\n",
        "    ##3e. once function is done with both couples names, combine both the numbers\n",
        "##4. With the combined number make a conditional that if love score is less than 10 or greater than 90 display to user\n",
        "    ## 4a.\"Your score is x and you go together like mentos and coke.\"\n",
        "  ## 4b. elIf love score is between 40 and 59\n",
        "      ## 4c.\"Your score is y and you are alright together.\"\n",
        "  ## 5.else \"Your score is z.\"\n",
        "\n",
        "## Terminate program!"
      ],
      "metadata": {
        "id": "uTatTAfRRXRW"
      },
      "execution_count": 18,
      "outputs": []
    },
    {
      "cell_type": "code",
      "source": [
        "true_container = {'T','R','U','E'}\n",
        "love_container = {'L','O','V','E'}\n",
        "letter_occurence = 0\n",
        "couple_one_occurence  = 0\n",
        "couple_two_occurence = 0\n",
        "increment = 1\n",
        "\n",
        "def compatibility_score(name):\n",
        "  upper_case_name = name.upper()\n",
        "  new_array = list(upper_case_name)\n",
        "  try:\n",
        "    new_array.remove(\" \")\n",
        "  except ValueError:\n",
        "      pass\n",
        "  letter_occurence = 0\n",
        "  for true_letter in new_array:\n",
        "    if true_letter in true_container:\n",
        "      letter_occurence = letter_occurence + increment\n",
        "\n",
        "  for love_letter in new_array:\n",
        "    if love_letter in love_container:\n",
        "      letter_occurence = letter_occurence + increment\n",
        "  return letter_occurence\n",
        "\n",
        "couple_one = input(\"What is your name?\")\n",
        "couple_one_occurence = compatibility_score(couple_one)\n",
        "couple_two = input(\"What is your partners name?\")\n",
        "couple_two_occurence = compatibility_score(couple_two)\n",
        "\n",
        "love_score =  str(couple_one_occurence) + str(couple_two_occurence)\n",
        "\n",
        "if int(love_score) < 10 or int(love_score) >= 90:\n",
        "  print(f\"Your love score is {love_score}. You both go together like mentos and coke =D \")\n",
        "elif int(love_score) >= 40 and int(love_score) <= 59:\n",
        "  print(f\"Your love score is {love_score}. You two are alright for each other. \")\n",
        "else:\n",
        "  print(f\"Your love score is {love_score}.\")"
      ],
      "metadata": {
        "colab": {
          "base_uri": "https://localhost:8080/"
        },
        "id": "fzM4SBDYYPf8",
        "outputId": "8fb6dc5d-0898-4195-a051-7eff4cbe24ba"
      },
      "execution_count": 8,
      "outputs": [
        {
          "output_type": "stream",
          "name": "stdout",
          "text": [
            "Number of letters that match: 0\n",
            "What is your name?Winston\n",
            "What is your partners name?Bailey\n",
            "Your love score is 23.\n"
          ]
        }
      ]
    }
  ]
}