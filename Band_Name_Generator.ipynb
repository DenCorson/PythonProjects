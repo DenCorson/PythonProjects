{
  "nbformat": 4,
  "nbformat_minor": 0,
  "metadata": {
    "colab": {
      "provenance": [],
      "authorship_tag": "ABX9TyNU6dXWk0XuXejSVVcqjNMF",
      "include_colab_link": true
    },
    "kernelspec": {
      "name": "python3",
      "display_name": "Python 3"
    },
    "language_info": {
      "name": "python"
    }
  },
  "cells": [
    {
      "cell_type": "markdown",
      "metadata": {
        "id": "view-in-github",
        "colab_type": "text"
      },
      "source": [
        "<a href=\"https://colab.research.google.com/github/DenCorson/PythonProjects/blob/main/Band_Name_Generator.ipynb\" target=\"_parent\"><img src=\"https://colab.research.google.com/assets/colab-badge.svg\" alt=\"Open In Colab\"/></a>"
      ]
    },
    {
      "cell_type": "code",
      "execution_count": 3,
      "metadata": {
        "id": "sJTuXCHUVLCB"
      },
      "outputs": [],
      "source": [
        "#1  Create a greeting for program\n",
        "\n",
        "#2. Ask the user for the city that they grew up in.\n",
        "\n",
        "#3. Ask the user for the name of a pet.\n",
        "\n",
        "#4. Combine the name of their city and pet and showm them their band name."
      ]
    },
    {
      "cell_type": "code",
      "source": [
        "print(\"Hello!\")\n",
        "\n",
        "user_city = input(\"What city did you grow up at?\")\n",
        "user_pet = input(\"What was the name of your pet?\")\n",
        "\n",
        "\n",
        "band_name = user_city + \" \" + user_pet\n",
        "\n",
        "print(\"Your band name should be: \", band_name)"
      ],
      "metadata": {
        "colab": {
          "base_uri": "https://localhost:8080/"
        },
        "id": "hFMf3QoiVZ0A",
        "outputId": "1e235852-1a09-423b-d1ef-7e7db54983a1"
      },
      "execution_count": 4,
      "outputs": [
        {
          "output_type": "stream",
          "name": "stdout",
          "text": [
            "Hello!\n",
            "What city did you grow up at?San Diego\n",
            "What was the name of your pet?Rocky\n",
            "Your band name should be:  San Diego Rocky\n"
          ]
        }
      ]
    }
  ]
}