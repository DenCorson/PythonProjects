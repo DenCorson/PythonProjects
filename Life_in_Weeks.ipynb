{
  "nbformat": 4,
  "nbformat_minor": 0,
  "metadata": {
    "colab": {
      "provenance": [],
      "authorship_tag": "ABX9TyMFmJXyXPG1ryrMECFg3iqW",
      "include_colab_link": true
    },
    "kernelspec": {
      "name": "python3",
      "display_name": "Python 3"
    },
    "language_info": {
      "name": "python"
    }
  },
  "cells": [
    {
      "cell_type": "markdown",
      "metadata": {
        "id": "view-in-github",
        "colab_type": "text"
      },
      "source": [
        "<a href=\"https://colab.research.google.com/github/DenCorson/PythonProjects/blob/main/Life_in_Weeks.ipynb\" target=\"_parent\"><img src=\"https://colab.research.google.com/assets/colab-badge.svg\" alt=\"Open In Colab\"/></a>"
      ]
    },
    {
      "cell_type": "code",
      "execution_count": null,
      "metadata": {
        "id": "ptXOH38NjcXe"
      },
      "outputs": [],
      "source": [
        "## Create a program using maths and f-strings that tells us how many days, weeks, months we have left until 90 years old\n",
        "\n",
        "## Program will take current age as input and output a message with our time left in this format:\n",
        "##                                                                                               You have x days, y weeks, and z months left\n",
        "\n",
        "\n",
        "\n",
        "################################     ALGORITHM\n",
        "\n",
        "## 1. Import maths library\n",
        "## 2. Request users current age as input\n",
        "## 3. Store users age into a variable (\"age\")\n",
        "## 4. Use the maths library to to convert age\n",
        "## 5. Store each value retrieved in variables  (days, weeks, months)\n",
        "## 6. Using f-string display back to user remaning values until 90 years old."
      ]
    },
    {
      "cell_type": "code",
      "source": [
        "import math\n",
        "\n",
        "\n",
        "user_age = input(\"What is your age?\")\n",
        "days_in_a_year = 365\n",
        "months_in_a_year = 12\n",
        "goal_age = 90\n",
        "weeks_in_a_year = 52\n",
        "years_remaining = goal_age - int(user_age)\n",
        "months_remaining =  months_in_a_year * years_remaining\n",
        "weeks_remaining = weeks_in_a_year * years_remaining\n",
        "total_days_90 = days_in_a_year * goal_age\n",
        "total_days_user_age = int(user_age) * days_in_a_year\n",
        "days_remaining = total_days_90 - total_days_user_age\n",
        "print(f\"You have {days_remaining} days, {weeks_remaining} weeks, {months_remaining} months left.\" )"
      ],
      "metadata": {
        "colab": {
          "base_uri": "https://localhost:8080/"
        },
        "id": "02ucsx1tnKoH",
        "outputId": "6576e7ea-2337-4d06-a3fb-5ff81f645ddf"
      },
      "execution_count": 14,
      "outputs": [
        {
          "output_type": "stream",
          "name": "stdout",
          "text": [
            "What is your age?52\n",
            "You have 13870 days, 1976 weeks, 456 months left.\n"
          ]
        }
      ]
    }
  ]
}